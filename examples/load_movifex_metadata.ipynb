{
  "nbformat": 4,
  "nbformat_minor": 0,
  "metadata": {
    "colab": {
      "provenance": [],
      "authorship_tag": "ABX9TyOi4hw88GNu2bpLuofBZcrA",
      "include_colab_link": true
    },
    "kernelspec": {
      "name": "python3",
      "display_name": "Python 3"
    },
    "language_info": {
      "name": "python"
    }
  },
  "cells": [
    {
      "cell_type": "markdown",
      "metadata": {
        "id": "view-in-github",
        "colab_type": "text"
      },
      "source": [
        "<a href=\"https://colab.research.google.com/github/RecSys-lab/movifex_dataset/blob/main/examples/load_movifex_metadata.ipynb\" target=\"_parent\"><img src=\"https://colab.research.google.com/assets/colab-badge.svg\" alt=\"Open In Colab\"/></a>"
      ]
    },
    {
      "cell_type": "markdown",
      "source": [
        "# **MoViFex Framework - Process `MoViFex` Dataset Metadata**\n",
        "\n",
        "🎬 Dataset MoViFex Dataset: [link](https://huggingface.co/datasets/alitourani/MoViFex_Dataset/tree/main)\n",
        "\n",
        "🎬 Framework: [link](https://github.com/RecSys-lab/MoViFex)\n"
      ],
      "metadata": {
        "id": "s3X6cZdKXyYw"
      }
    },
    {
      "cell_type": "markdown",
      "source": [
        "# [Step 1] - Load the Framework\n",
        "\n",
        "Clone the framework into your `GDrive` and prepare it for experiments."
      ],
      "metadata": {
        "id": "BXiWlEO7CtDu"
      }
    },
    {
      "cell_type": "code",
      "source": [
        "# Clone the repo\n",
        "!git clone https://github.com/RecSys-lab/MoViFex.git\n",
        "\n",
        "# Install the required library\n",
        "%cd MoViFex\n",
        "!pip install -e .\n",
        "\n",
        "# Add the repository to the Python path\n",
        "import sys\n",
        "sys.path.append('/content/MoViFex')"
      ],
      "metadata": {
        "colab": {
          "base_uri": "https://localhost:8080/"
        },
        "id": "-p2Kr0vgln4l",
        "outputId": "6fbfbec3-bbb7-48c8-fa9c-32ef44310ecf"
      },
      "execution_count": null,
      "outputs": [
        {
          "output_type": "stream",
          "name": "stdout",
          "text": [
            "Cloning into 'MoViFex'...\n",
            "remote: Enumerating objects: 672, done.\u001b[K\n",
            "remote: Counting objects: 100% (248/248), done.\u001b[K\n",
            "remote: Compressing objects: 100% (174/174), done.\u001b[K\n",
            "remote: Total 672 (delta 124), reused 187 (delta 68), pack-reused 424 (from 1)\u001b[K\n",
            "Receiving objects: 100% (672/672), 146.06 KiB | 3.65 MiB/s, done.\n",
            "Resolving deltas: 100% (341/341), done.\n",
            "/content/MoViFex\n",
            "Obtaining file:///content/MoViFex\n",
            "  Preparing metadata (setup.py) ... \u001b[?25l\u001b[?25hdone\n",
            "Requirement already satisfied: pandas>=2.0 in /usr/local/lib/python3.10/dist-packages (from MoViFex==1.0.0) (2.2.2)\n",
            "Requirement already satisfied: numpy>=1.26 in /usr/local/lib/python3.10/dist-packages (from MoViFex==1.0.0) (1.26.4)\n",
            "Requirement already satisfied: opencv-python>=4.9 in /usr/local/lib/python3.10/dist-packages (from MoViFex==1.0.0) (4.10.0.84)\n",
            "Requirement already satisfied: matplotlib>=3.9 in /usr/local/lib/python3.10/dist-packages (from MoViFex==1.0.0) (3.10.0)\n",
            "Requirement already satisfied: pytube>=15.0 in /usr/local/lib/python3.10/dist-packages (from MoViFex==1.0.0) (15.0.0)\n",
            "Requirement already satisfied: scipy>=1.14.1 in /usr/local/lib/python3.10/dist-packages (from MoViFex==1.0.0) (1.15.1)\n",
            "Requirement already satisfied: requests>=2.32 in /usr/local/lib/python3.10/dist-packages (from MoViFex==1.0.0) (2.32.3)\n",
            "Requirement already satisfied: PyYAML>=6.0.1 in /usr/local/lib/python3.10/dist-packages (from MoViFex==1.0.0) (6.0.2)\n",
            "Requirement already satisfied: tensorflow>=2.17.0 in /usr/local/lib/python3.10/dist-packages (from MoViFex==1.0.0) (2.17.1)\n",
            "Requirement already satisfied: contourpy>=1.0.1 in /usr/local/lib/python3.10/dist-packages (from matplotlib>=3.9->MoViFex==1.0.0) (1.3.1)\n",
            "Requirement already satisfied: cycler>=0.10 in /usr/local/lib/python3.10/dist-packages (from matplotlib>=3.9->MoViFex==1.0.0) (0.12.1)\n",
            "Requirement already satisfied: fonttools>=4.22.0 in /usr/local/lib/python3.10/dist-packages (from matplotlib>=3.9->MoViFex==1.0.0) (4.55.3)\n",
            "Requirement already satisfied: kiwisolver>=1.3.1 in /usr/local/lib/python3.10/dist-packages (from matplotlib>=3.9->MoViFex==1.0.0) (1.4.8)\n",
            "Requirement already satisfied: packaging>=20.0 in /usr/local/lib/python3.10/dist-packages (from matplotlib>=3.9->MoViFex==1.0.0) (24.2)\n",
            "Requirement already satisfied: pillow>=8 in /usr/local/lib/python3.10/dist-packages (from matplotlib>=3.9->MoViFex==1.0.0) (11.1.0)\n",
            "Requirement already satisfied: pyparsing>=2.3.1 in /usr/local/lib/python3.10/dist-packages (from matplotlib>=3.9->MoViFex==1.0.0) (3.2.1)\n",
            "Requirement already satisfied: python-dateutil>=2.7 in /usr/local/lib/python3.10/dist-packages (from matplotlib>=3.9->MoViFex==1.0.0) (2.8.2)\n",
            "Requirement already satisfied: pytz>=2020.1 in /usr/local/lib/python3.10/dist-packages (from pandas>=2.0->MoViFex==1.0.0) (2024.2)\n",
            "Requirement already satisfied: tzdata>=2022.7 in /usr/local/lib/python3.10/dist-packages (from pandas>=2.0->MoViFex==1.0.0) (2024.2)\n",
            "Requirement already satisfied: charset-normalizer<4,>=2 in /usr/local/lib/python3.10/dist-packages (from requests>=2.32->MoViFex==1.0.0) (3.4.1)\n",
            "Requirement already satisfied: idna<4,>=2.5 in /usr/local/lib/python3.10/dist-packages (from requests>=2.32->MoViFex==1.0.0) (3.10)\n",
            "Requirement already satisfied: urllib3<3,>=1.21.1 in /usr/local/lib/python3.10/dist-packages (from requests>=2.32->MoViFex==1.0.0) (2.3.0)\n",
            "Requirement already satisfied: certifi>=2017.4.17 in /usr/local/lib/python3.10/dist-packages (from requests>=2.32->MoViFex==1.0.0) (2024.12.14)\n",
            "Requirement already satisfied: absl-py>=1.0.0 in /usr/local/lib/python3.10/dist-packages (from tensorflow>=2.17.0->MoViFex==1.0.0) (1.4.0)\n",
            "Requirement already satisfied: astunparse>=1.6.0 in /usr/local/lib/python3.10/dist-packages (from tensorflow>=2.17.0->MoViFex==1.0.0) (1.6.3)\n",
            "Requirement already satisfied: flatbuffers>=24.3.25 in /usr/local/lib/python3.10/dist-packages (from tensorflow>=2.17.0->MoViFex==1.0.0) (24.12.23)\n",
            "Requirement already satisfied: gast!=0.5.0,!=0.5.1,!=0.5.2,>=0.2.1 in /usr/local/lib/python3.10/dist-packages (from tensorflow>=2.17.0->MoViFex==1.0.0) (0.6.0)\n",
            "Requirement already satisfied: google-pasta>=0.1.1 in /usr/local/lib/python3.10/dist-packages (from tensorflow>=2.17.0->MoViFex==1.0.0) (0.2.0)\n",
            "Requirement already satisfied: h5py>=3.10.0 in /usr/local/lib/python3.10/dist-packages (from tensorflow>=2.17.0->MoViFex==1.0.0) (3.12.1)\n",
            "Requirement already satisfied: libclang>=13.0.0 in /usr/local/lib/python3.10/dist-packages (from tensorflow>=2.17.0->MoViFex==1.0.0) (18.1.1)\n",
            "Requirement already satisfied: ml-dtypes<0.5.0,>=0.3.1 in /usr/local/lib/python3.10/dist-packages (from tensorflow>=2.17.0->MoViFex==1.0.0) (0.4.1)\n",
            "Requirement already satisfied: opt-einsum>=2.3.2 in /usr/local/lib/python3.10/dist-packages (from tensorflow>=2.17.0->MoViFex==1.0.0) (3.4.0)\n",
            "Requirement already satisfied: protobuf!=4.21.0,!=4.21.1,!=4.21.2,!=4.21.3,!=4.21.4,!=4.21.5,<5.0.0dev,>=3.20.3 in /usr/local/lib/python3.10/dist-packages (from tensorflow>=2.17.0->MoViFex==1.0.0) (4.25.5)\n",
            "Requirement already satisfied: setuptools in /usr/local/lib/python3.10/dist-packages (from tensorflow>=2.17.0->MoViFex==1.0.0) (75.1.0)\n",
            "Requirement already satisfied: six>=1.12.0 in /usr/local/lib/python3.10/dist-packages (from tensorflow>=2.17.0->MoViFex==1.0.0) (1.17.0)\n",
            "Requirement already satisfied: termcolor>=1.1.0 in /usr/local/lib/python3.10/dist-packages (from tensorflow>=2.17.0->MoViFex==1.0.0) (2.5.0)\n",
            "Requirement already satisfied: typing-extensions>=3.6.6 in /usr/local/lib/python3.10/dist-packages (from tensorflow>=2.17.0->MoViFex==1.0.0) (4.12.2)\n",
            "Requirement already satisfied: wrapt>=1.11.0 in /usr/local/lib/python3.10/dist-packages (from tensorflow>=2.17.0->MoViFex==1.0.0) (1.17.0)\n",
            "Requirement already satisfied: grpcio<2.0,>=1.24.3 in /usr/local/lib/python3.10/dist-packages (from tensorflow>=2.17.0->MoViFex==1.0.0) (1.69.0)\n",
            "Requirement already satisfied: tensorboard<2.18,>=2.17 in /usr/local/lib/python3.10/dist-packages (from tensorflow>=2.17.0->MoViFex==1.0.0) (2.17.1)\n",
            "Requirement already satisfied: keras>=3.2.0 in /usr/local/lib/python3.10/dist-packages (from tensorflow>=2.17.0->MoViFex==1.0.0) (3.5.0)\n",
            "Requirement already satisfied: tensorflow-io-gcs-filesystem>=0.23.1 in /usr/local/lib/python3.10/dist-packages (from tensorflow>=2.17.0->MoViFex==1.0.0) (0.37.1)\n",
            "Requirement already satisfied: wheel<1.0,>=0.23.0 in /usr/local/lib/python3.10/dist-packages (from astunparse>=1.6.0->tensorflow>=2.17.0->MoViFex==1.0.0) (0.45.1)\n",
            "Requirement already satisfied: rich in /usr/local/lib/python3.10/dist-packages (from keras>=3.2.0->tensorflow>=2.17.0->MoViFex==1.0.0) (13.9.4)\n",
            "Requirement already satisfied: namex in /usr/local/lib/python3.10/dist-packages (from keras>=3.2.0->tensorflow>=2.17.0->MoViFex==1.0.0) (0.0.8)\n",
            "Requirement already satisfied: optree in /usr/local/lib/python3.10/dist-packages (from keras>=3.2.0->tensorflow>=2.17.0->MoViFex==1.0.0) (0.13.1)\n",
            "Requirement already satisfied: markdown>=2.6.8 in /usr/local/lib/python3.10/dist-packages (from tensorboard<2.18,>=2.17->tensorflow>=2.17.0->MoViFex==1.0.0) (3.7)\n",
            "Requirement already satisfied: tensorboard-data-server<0.8.0,>=0.7.0 in /usr/local/lib/python3.10/dist-packages (from tensorboard<2.18,>=2.17->tensorflow>=2.17.0->MoViFex==1.0.0) (0.7.2)\n",
            "Requirement already satisfied: werkzeug>=1.0.1 in /usr/local/lib/python3.10/dist-packages (from tensorboard<2.18,>=2.17->tensorflow>=2.17.0->MoViFex==1.0.0) (3.1.3)\n",
            "Requirement already satisfied: MarkupSafe>=2.1.1 in /usr/local/lib/python3.10/dist-packages (from werkzeug>=1.0.1->tensorboard<2.18,>=2.17->tensorflow>=2.17.0->MoViFex==1.0.0) (3.0.2)\n",
            "Requirement already satisfied: markdown-it-py>=2.2.0 in /usr/local/lib/python3.10/dist-packages (from rich->keras>=3.2.0->tensorflow>=2.17.0->MoViFex==1.0.0) (3.0.0)\n",
            "Requirement already satisfied: pygments<3.0.0,>=2.13.0 in /usr/local/lib/python3.10/dist-packages (from rich->keras>=3.2.0->tensorflow>=2.17.0->MoViFex==1.0.0) (2.18.0)\n",
            "Requirement already satisfied: mdurl~=0.1 in /usr/local/lib/python3.10/dist-packages (from markdown-it-py>=2.2.0->rich->keras>=3.2.0->tensorflow>=2.17.0->MoViFex==1.0.0) (0.1.2)\n",
            "Installing collected packages: MoViFex\n",
            "  Running setup.py develop for MoViFex\n",
            "Successfully installed MoViFex-1.0.0\n"
          ]
        }
      ]
    },
    {
      "cell_type": "markdown",
      "source": [
        "# [Step 2] - Use the Framework 🚀\n",
        "\n",
        "Import the framework and define some variables to work with it."
      ],
      "metadata": {
        "id": "E86Y72Xv_5FK"
      }
    },
    {
      "cell_type": "code",
      "source": [
        "import os\n",
        "import json\n",
        "import movifex\n",
        "\n",
        "# Similar to the `config.yml` file in the framework - section `datasets/visual_dataset/movifex`\n",
        "configs = {\n",
        "    \"name\": \"MoViFex-visual\",\n",
        "    \"path_metadata\": \"https://huggingface.co/datasets/alitourani/MoViFex_Dataset/resolve/main/stats.json\"\n",
        "}\n",
        "\n",
        "# Variables\n",
        "datasetName = configs['name']\n",
        "datasetMetadataUrl = configs['path_metadata']"
      ],
      "metadata": {
        "id": "ls0EuCio_m4c"
      },
      "execution_count": null,
      "outputs": []
    },
    {
      "cell_type": "markdown",
      "source": [
        "**Test I. Loading the Dataset Metadata**\n",
        "\n",
        "- ⚙️ Function: `loadJsonFromUrl`"
      ],
      "metadata": {
        "id": "lLeEcB3uBqnU"
      }
    },
    {
      "cell_type": "code",
      "source": [
        "from movifex.utils import loadJsonFromUrl\n",
        "\n",
        "print(f\"- Fetching the dataset metadata from '{datasetMetadataUrl}' ...\")\n",
        "jsonData = loadJsonFromUrl(datasetMetadataUrl)\n",
        "\n",
        "print(jsonData)"
      ],
      "metadata": {
        "colab": {
          "base_uri": "https://localhost:8080/"
        },
        "id": "Q8RLDUrnCPFj",
        "outputId": "2dbb9b35-67e4-4013-b490-f8f5dfc15bdb"
      },
      "execution_count": null,
      "outputs": [
        {
          "output_type": "stream",
          "name": "stdout",
          "text": [
            "- Fetching the dataset metadata from 'https://huggingface.co/datasets/alitourani/MoViFex_Dataset/resolve/main/stats.json' ...\n",
            "[{'id': '0000000006', 'title': 'Heat', 'year': 1995, 'genres': ['Action', 'Crime', 'Thriller']}, {'id': '0000000050', 'title': 'Usual Suspects, The', 'year': 1995, 'genres': ['Crime', 'Mystery', 'Thriller']}, {'id': '0000000111', 'title': 'Taxi Driver', 'year': 1976, 'genres': ['Crime', 'Drama', 'Thriller']}, {'id': '0000000150', 'title': 'Apollo 13', 'year': 1995, 'genres': ['Adventure', 'Drama', 'IMAX']}, {'id': '0000000165', 'title': 'Die Hard: With a Vengeance', 'year': 1995, 'genres': ['Action', 'Crime', 'Thriller']}, {'id': '0000000231', 'title': 'Dumb & Dumber (Dumb and Dumber)', 'year': 1994, 'genres': ['Adventure', 'Comedy']}, {'id': '0000000266', 'title': 'Legends of the Fall', 'year': 1994, 'genres': ['Drama', 'Romance', 'War', 'Western']}, {'id': '0000000293', 'title': 'LÃ©on: The Professional (a.k.a. The Professional) (LÃ©on)', 'year': 1994, 'genres': ['Action', 'Crime', 'Drama', 'Thriller']}, {'id': '0000000296', 'title': 'Pulp Fiction', 'year': 1994, 'genres': ['Comedy', 'Crime', 'Drama', 'Thriller']}, {'id': '0000000318', 'title': 'Shawshank Redemption, The', 'year': 1994, 'genres': ['Crime', 'Drama']}, {'id': '0000000356', 'title': 'Forrest Gump', 'year': 1994, 'genres': ['Comedy', 'Drama', 'Romance', 'War']}, {'id': '0000000420', 'title': 'Beverly Hills Cop III', 'year': 1994, 'genres': ['Action', 'Comedy', 'Crime', 'Thriller']}, {'id': '0000000480', 'title': 'Jurassic Park', 'year': 1993, 'genres': ['Action', 'Adventure', 'Sci-Fi', 'Thriller']}, {'id': '0000000527', 'title': \"Schindler's List\", 'year': 1993, 'genres': ['Drama', 'War']}, {'id': '0000000553', 'title': 'Tombstone', 'year': 1993, 'genres': ['Action', 'Drama', 'Western']}, {'id': '0000000586', 'title': 'Home Alone', 'year': 1990, 'genres': ['Children', 'Comedy']}, {'id': '0000000589', 'title': 'Terminator 2: Judgment Day', 'year': 1991, 'genres': ['Action', 'Sci-Fi']}, {'id': '0000000608', 'title': 'Fargo', 'year': 1996, 'genres': ['Comedy', 'Crime', 'Drama', 'Thriller']}, {'id': '0000000778', 'title': 'Trainspotting', 'year': 1996, 'genres': ['Comedy', 'Crime', 'Drama']}, {'id': '0000000858', 'title': 'Godfather, The', 'year': 1972, 'genres': ['Crime', 'Drama']}, {'id': '0000000904', 'title': 'Rear Window', 'year': 1954, 'genres': ['Mystery', 'Thriller']}, {'id': '0000000912', 'title': 'Casablanca', 'year': 1942, 'genres': ['Drama', 'Romance']}, {'id': '0000001036', 'title': 'Die Hard', 'year': 1988, 'genres': ['Action', 'Crime', 'Thriller']}, {'id': '0000001089', 'title': 'Reservoir Dogs', 'year': 1992, 'genres': ['Crime', 'Mystery', 'Thriller']}, {'id': '0000001193', 'title': \"One Flew Over the Cuckoo's Nest\", 'year': 1975, 'genres': ['Drama']}, {'id': '0000001200', 'title': 'Aliens', 'year': 1986, 'genres': ['Action', 'Adventure', 'Horror', 'Sci-Fi']}, {'id': '0000001201', 'title': 'Good, the Bad and the Ugly, The (Buono, il brutto, il cattivo, Il)', 'year': 1966, 'genres': ['Action', 'Adventure', 'Western']}, {'id': '0000001203', 'title': '12 Angry Men', 'year': 1957, 'genres': ['Drama']}, {'id': '0000001206', 'title': 'Clockwork Orange, A', 'year': 1971, 'genres': ['Crime', 'Drama', 'Sci-Fi', 'Thriller']}, {'id': '0000001213', 'title': 'Goodfellas', 'year': 1990, 'genres': ['Crime', 'Drama']}, {'id': '0000001214', 'title': 'Alien', 'year': 1979, 'genres': ['Horror', 'Sci-Fi']}, {'id': '0000001221', 'title': 'Godfather: Part II, The', 'year': 1974, 'genres': ['Crime', 'Drama']}, {'id': '0000001227', 'title': 'Once Upon a Time in America', 'year': 1984, 'genres': ['Crime', 'Drama']}, {'id': '0000001252', 'title': 'Chinatown', 'year': 1974, 'genres': ['Crime', 'Film-Noir', 'Mystery', 'Thriller']}, {'id': '0000001266', 'title': 'Unforgiven', 'year': 1992, 'genres': ['Drama', 'Western']}, {'id': '0000001339', 'title': \"Dracula (Bram Stoker's Dracula)\", 'year': 1992, 'genres': ['Fantasy', 'Horror', 'Romance', 'Thriller']}, {'id': '0000001370', 'title': 'Die Hard 2', 'year': 1990, 'genres': ['Action', 'Adventure', 'Thriller']}, {'id': '0000001377', 'title': 'Batman Returns', 'year': 1992, 'genres': ['Action', 'Crime']}, {'id': '0000001573', 'title': 'Face/Off', 'year': 1997, 'genres': ['Action', 'Crime', 'Drama', 'Thriller']}, {'id': '0000001584', 'title': 'Contact', 'year': 1997, 'genres': ['Drama', 'Sci-Fi']}, {'id': '0000001619', 'title': 'Seven Years in Tibet', 'year': 1997, 'genres': ['Adventure', 'Drama', 'War']}, {'id': '0000001645', 'title': \"The Devil's Advocate\", 'year': 1997, 'genres': ['Drama', 'Mystery', 'Thriller']}, {'id': '0000001690', 'title': 'Alien: Resurrection', 'year': 1997, 'genres': ['Action', 'Horror', 'Sci-Fi']}, {'id': '0000001704', 'title': 'Good Will Hunting', 'year': 1997, 'genres': ['Drama', 'Romance']}, {'id': '0000001721', 'title': 'Titanic', 'year': 1997, 'genres': ['Drama', 'Romance']}, {'id': '0000001954', 'title': 'Rocky', 'year': 1976, 'genres': ['Drama']}, {'id': '0000001961', 'title': 'Rain Man', 'year': 1988, 'genres': ['Drama']}, {'id': '0000001997', 'title': 'Exorcist, The', 'year': 1973, 'genres': ['Horror', 'Mystery']}, {'id': '0000002011', 'title': 'Back to the Future Part II', 'year': 1989, 'genres': ['Adventure', 'Comedy', 'Sci-Fi']}, {'id': '0000002023', 'title': 'Godfather: Part III, The', 'year': 1990, 'genres': ['Crime', 'Drama', 'Mystery', 'Thriller']}, {'id': '0000002028', 'title': 'Saving Private Ryan', 'year': 1998, 'genres': ['Action', 'Drama', 'War']}, {'id': '0000002167', 'title': 'Blade', 'year': 1998, 'genres': ['Action', 'Horror', 'Thriller']}, {'id': '0000002329', 'title': 'American History X', 'year': 1998, 'genres': ['Crime', 'Drama']}, {'id': '0000002409', 'title': 'Rocky II', 'year': 1979, 'genres': ['Action', 'Drama']}, {'id': '0000002410', 'title': 'Rocky III', 'year': 1982, 'genres': ['Action', 'Drama']}, {'id': '0000002411', 'title': 'Rocky IV', 'year': 1985, 'genres': ['Action', 'Drama']}, {'id': '0000002571', 'title': 'Matrix, The', 'year': 1999, 'genres': ['Action', 'Sci-Fi', 'Thriller']}, {'id': '0000002959', 'title': 'Fight Club', 'year': 1999, 'genres': ['Action', 'Crime', 'Drama', 'Thriller']}, {'id': '0000003147', 'title': 'Green Mile, The', 'year': 1999, 'genres': ['Crime', 'Drama']}, {'id': '0000003178', 'title': 'Hurricane, The', 'year': 1999, 'genres': ['Drama']}, {'id': '0000003198', 'title': 'Papillon', 'year': 1973, 'genres': ['Crime', 'Drama']}, {'id': '0000003362', 'title': 'Dog Day Afternoon', 'year': 1975, 'genres': ['Crime', 'Drama']}, {'id': '0000003510', 'title': 'Frequency', 'year': 2000, 'genres': ['Drama', 'Thriller']}, {'id': '0000003578', 'title': 'Gladiator', 'year': 2000, 'genres': ['Action', 'Adventure', 'Drama']}, {'id': '0000003916', 'title': 'Remember the Titans', 'year': 2000, 'genres': ['Drama']}, {'id': '0000004022', 'title': 'Cast Away', 'year': 2000, 'genres': ['Drama']}, {'id': '0000004084', 'title': 'Beverly Hills Cop II', 'year': 1987, 'genres': ['Action', 'Comedy', 'Crime', 'Thriller']}, {'id': '0000004085', 'title': 'Beverly Hills Cop', 'year': 1984, 'genres': ['Action', 'Comedy', 'Crime', 'Drama']}, {'id': '0000004223', 'title': 'Enemy at the Gates', 'year': 2001, 'genres': ['Drama', 'War']}, {'id': '0000004226', 'title': 'Memento', 'year': 2000, 'genres': ['Mystery', 'Thriller']}, {'id': '0000004262', 'title': 'Scarface', 'year': 1983, 'genres': ['Action', 'Crime', 'Drama']}, {'id': '0000004776', 'title': 'Training Day', 'year': 2001, 'genres': ['Crime', 'Drama', 'Thriller']}, {'id': '0000004993', 'title': 'Lord of the Rings: The Fellowship of the Ring, The', 'year': 2001, 'genres': ['Adventure', 'Fantasy']}, {'id': '0000004995', 'title': 'Beautiful Mind, A', 'year': 2001, 'genres': ['Drama', 'Romance']}, {'id': '0000005219', 'title': 'Resident Evil', 'year': 2002, 'genres': ['Action', 'Horror', 'Sci-Fi', 'Thriller']}, {'id': '0000005254', 'title': 'Blade II', 'year': 2002, 'genres': ['Action', 'Horror', 'Thriller']}, {'id': '0000005418', 'title': 'Bourne Identity, The', 'year': 2002, 'genres': ['Action', 'Mystery', 'Thriller']}, {'id': '0000005574', 'title': 'Transporter, The', 'year': 2002, 'genres': ['Action', 'Crime']}, {'id': '0000005810', 'title': '8 Mile', 'year': 2002, 'genres': ['Drama']}, {'id': '0000005952', 'title': 'Lord of the Rings: The Two Towers, The', 'year': 2002, 'genres': ['Adventure', 'Fantasy']}, {'id': '0000005956', 'title': 'Gangs of New York', 'year': 2002, 'genres': ['Crime', 'Drama']}, {'id': '0000005989', 'title': 'Catch Me If You Can', 'year': 2002, 'genres': ['Crime', 'Drama']}, {'id': '0000005995', 'title': 'Pianist, The', 'year': 2002, 'genres': ['Drama', 'War']}, {'id': '0000006365', 'title': 'Matrix Reloaded, The', 'year': 2003, 'genres': ['Action', 'Adventure', 'Sci-Fi', 'Thriller', 'IMAX']}, {'id': '0000006534', 'title': 'Hulk', 'year': 2003, 'genres': ['Action', 'Adventure', 'Sci-Fi']}, {'id': '0000006548', 'title': 'Bad Boys II', 'year': 2003, 'genres': ['Action', 'Comedy', 'Crime', 'Thriller']}, {'id': '0000006550', 'title': 'Johnny English', 'year': 2003, 'genres': ['Action', 'Comedy', 'Thriller']}, {'id': '0000006754', 'title': 'Underworld', 'year': 2003, 'genres': ['Action', 'Fantasy', 'Horror']}, {'id': '0000006863', 'title': 'School of Rock', 'year': 2003, 'genres': ['Comedy', 'Musical']}, {'id': '0000006874', 'title': 'Kill Bill: Vol. 1', 'year': 2003, 'genres': ['Action', 'Crime', 'Thriller']}, {'id': '0000006934', 'title': 'Matrix Revolutions, The', 'year': 2003, 'genres': ['Action', 'Adventure', 'Sci-Fi', 'Thriller', 'IMAX']}, {'id': '0000006979', 'title': 'WarGames', 'year': 1983, 'genres': ['Drama', 'Sci-Fi', 'Thriller']}, {'id': '0000007153', 'title': 'Lord of the Rings: The Return of the King, The', 'year': 2003, 'genres': ['Action', 'Adventure', 'Drama', 'Fantasy']}, {'id': '0000007387', 'title': 'Dawn of the Dead', 'year': 1978, 'genres': ['Action', 'Drama', 'Horror']}, {'id': '0000007438', 'title': 'Kill Bill: Vol. 2', 'year': 2004, 'genres': ['Action', 'Drama', 'Thriller']}, {'id': '0000008529', 'title': 'Terminal, The', 'year': 2004, 'genres': ['Comedy', 'Drama', 'Romance']}, {'id': '0000008638', 'title': 'Before Sunset', 'year': 2004, 'genres': ['Drama', 'Romance']}, {'id': '0000008665', 'title': 'Bourne Supremacy, The', 'year': 2004, 'genres': ['Action', 'Crime', 'Thriller']}, {'id': '0000008861', 'title': 'Resident Evil: Apocalypse', 'year': 2004, 'genres': ['Action', 'Horror', 'Sci-Fi', 'Thriller']}, {'id': '0000008985', 'title': 'Blade: Trinity', 'year': 2004, 'genres': ['Action', 'Fantasy', 'Horror', 'Thriller']}, {'id': '0000026294', 'title': 'My Name Is Nobody (Il Mio nome Ã¨ Nessuno)', 'year': 1973, 'genres': ['Comedy', 'Western']}, {'id': '0000030707', 'title': 'Million Dollar Baby', 'year': 2004, 'genres': ['Drama']}, {'id': '0000031364', 'title': 'Memories of Murder (Salinui chueok)', 'year': 2003, 'genres': ['Crime', 'Drama', 'Mystery', 'Thriller']}, {'id': '0000033794', 'title': 'Batman Begins', 'year': 2005, 'genres': ['Action', 'Crime', 'IMAX']}, {'id': '0000034150', 'title': 'Fantastic Four', 'year': 2005, 'genres': ['Action', 'Adventure', 'Sci-Fi']}, {'id': '0000036519', 'title': 'Transporter 2', 'year': 2005, 'genres': ['Action', 'Crime', 'Thriller']}, {'id': '0000042738', 'title': 'Underworld: Evolution', 'year': 2006, 'genres': ['Action', 'Fantasy', 'Horror']}, {'id': '0000044665', 'title': 'Lucky Number Slevin', 'year': 2006, 'genres': ['Crime', 'Drama', 'Mystery']}, {'id': '0000048304', 'title': 'Apocalypto', 'year': 2006, 'genres': ['Adventure', 'Drama', 'Thriller']}, {'id': '0000048780', 'title': 'Prestige, The', 'year': 2006, 'genres': ['Drama', 'Mystery', 'Sci-Fi', 'Thriller']}, {'id': '0000053464', 'title': 'Fantastic Four: Rise of the Silver Surfer', 'year': 2007, 'genres': ['Action', 'Adventure', 'Sci-Fi']}, {'id': '0000053972', 'title': 'Live Free or Die Hard', 'year': 2007, 'genres': ['Action', 'Adventure', 'Crime', 'Thriller']}, {'id': '0000053996', 'title': 'Transformers', 'year': 2007, 'genres': ['Action', 'Sci-Fi', 'Thriller', 'IMAX']}, {'id': '0000054771', 'title': 'Invasion, The', 'year': 2007, 'genres': ['Action', 'Drama', 'Horror', 'Sci-Fi', 'Thriller']}, {'id': '0000056145', 'title': 'Mist, The', 'year': 2007, 'genres': ['Horror', 'Sci-Fi']}, {'id': '0000057528', 'title': 'Rambo (Rambo 4)', 'year': 2008, 'genres': ['Action', 'Drama', 'Thriller', 'War']}, {'id': '0000058559', 'title': 'Dark Knight, The', 'year': 2008, 'genres': ['Action', 'Crime', 'Drama', 'IMAX']}, {'id': '0000059369', 'title': 'Taken', 'year': 2008, 'genres': ['Action', 'Crime', 'Drama', 'Thriller']}, {'id': '0000060040', 'title': 'Incredible Hulk, The', 'year': 2008, 'genres': ['Action', 'Sci-Fi']}, {'id': '0000064030', 'title': 'Transporter 3', 'year': 2008, 'genres': ['Action', 'Adventure', 'Crime', 'Thriller']}, {'id': '0000064957', 'title': 'Curious Case of Benjamin Button, The', 'year': 2008, 'genres': ['Drama', 'Fantasy', 'Mystery', 'Romance']}, {'id': '0000064983', 'title': 'Valkyrie', 'year': 2008, 'genres': ['Drama', 'Thriller', 'War']}, {'id': '0000065514', 'title': 'Ip Man', 'year': 2008, 'genres': ['Action', 'Drama', 'War']}, {'id': '0000065682', 'title': 'Underworld: Rise of the Lycans', 'year': 2009, 'genres': ['Action', 'Fantasy', 'Horror', 'Thriller']}, {'id': '0000068157', 'title': 'Inglourious Basterds', 'year': 2009, 'genres': ['Action', 'Drama', 'War']}, {'id': '0000069275', 'title': 'Dead Snow (DÃ¸d snÃ¸)', 'year': 2009, 'genres': ['Action', 'Adventure', 'Comedy', 'Horror']}, {'id': '0000069526', 'title': 'Transformers: Revenge of the Fallen', 'year': 2009, 'genres': ['Action', 'Adventure', 'Sci-Fi', 'IMAX']}, {'id': '0000072731', 'title': 'Lovely Bones, The', 'year': 2009, 'genres': ['Crime', 'Drama', 'Fantasy', 'Horror', 'Thriller']}, {'id': '0000073808', 'title': 'Chaser, The (Chugyeogja)', 'year': 2008, 'genres': ['Crime', 'Drama', 'Thriller']}, {'id': '0000074851', 'title': 'From Paris with Love', 'year': 2010, 'genres': ['Action', 'Crime']}, {'id': '0000076175', 'title': 'Clash of the Titans', 'year': 2010, 'genres': ['Action', 'Adventure', 'Drama', 'Fantasy']}, {'id': '0000078772', 'title': 'Twilight Saga: Eclipse, The', 'year': 2010, 'genres': ['Fantasy', 'Romance', 'Thriller', 'IMAX']}, {'id': '0000079132', 'title': 'Inception', 'year': 2010, 'genres': ['Action', 'Crime', 'Drama', 'Mystery', 'Sci-Fi', 'Thriller', 'IMAX']}, {'id': '0000079695', 'title': 'Expendables, The', 'year': 2010, 'genres': ['Action', 'Adventure', 'Thriller']}, {'id': '0000080363', 'title': 'Resident Evil: Afterlife', 'year': 2010, 'genres': ['Action', 'Horror', 'Sci-Fi', 'Thriller', 'IMAX']}, {'id': '0000080846', 'title': 'Devil', 'year': 2010, 'genres': ['Horror', 'Mystery', 'Thriller']}, {'id': '0000081520', 'title': 'Undisputed III: Redemption', 'year': 2010, 'genres': ['Action', 'Crime', 'Drama']}, {'id': '0000081932', 'title': 'Fighter, The', 'year': 2010, 'genres': ['Drama']}, {'id': '0000084601', 'title': 'Unknown', 'year': 2011, 'genres': ['Drama', 'Mystery', 'Thriller']}, {'id': '0000085414', 'title': 'Source Code', 'year': 2011, 'genres': ['Action', 'Drama', 'Mystery', 'Sci-Fi', 'Thriller']}, {'id': '0000086644', 'title': 'Fast Five (Fast and the Furious 5, The)', 'year': 2011, 'genres': ['Action', 'Crime', 'Drama', 'Thriller', 'IMAX']}, {'id': '0000087520', 'title': 'Transformers: Dark of the Moon', 'year': 2011, 'genres': ['Action', 'Adventure', 'Sci-Fi', 'War', 'IMAX']}, {'id': '0000088140', 'title': 'Captain America: The First Avenger', 'year': 2011, 'genres': ['Action', 'Adventure', 'Sci-Fi', 'Thriller', 'War']}, {'id': '0000089904', 'title': 'The Artist', 'year': 2011, 'genres': ['Comedy', 'Drama', 'Romance']}, {'id': '0000090522', 'title': 'Johnny English Reborn', 'year': 2011, 'genres': ['Adventure', 'Comedy', 'Thriller']}, {'id': '0000091630', 'title': 'Mission: Impossible - Ghost Protocol', 'year': 2011, 'genres': ['Action', 'Adventure', 'Thriller', 'IMAX']}, {'id': '0000091974', 'title': 'Underworld: Awakening', 'year': 2012, 'genres': ['Action', 'Fantasy', 'Horror', 'IMAX']}, {'id': '0000091978', 'title': 'Man on a Ledge', 'year': 2012, 'genres': ['Crime', 'Thriller']}, {'id': '0000092507', 'title': 'Safe House', 'year': 2012, 'genres': ['Action', 'Crime', 'Mystery', 'Thriller']}, {'id': '0000093242', 'title': 'Gone', 'year': 2012, 'genres': ['Drama', 'Thriller']}, {'id': '0000093363', 'title': 'John Carter', 'year': 2012, 'genres': ['Action', 'Adventure', 'Sci-Fi', 'IMAX']}, {'id': '0000093838', 'title': 'The Raid: Redemption', 'year': 2011, 'genres': ['Action', 'Crime']}, {'id': '0000094405', 'title': 'Safe', 'year': 2012, 'genres': ['Action', 'Crime', 'Thriller']}, {'id': '0000094985', 'title': 'Get the Gringo', 'year': 2012, 'genres': ['Action', 'Crime', 'Drama', 'Thriller']}, {'id': '0000095875', 'title': 'Total Recall', 'year': 2012, 'genres': ['Action', 'Sci-Fi', 'Thriller']}, {'id': '0000096432', 'title': 'Lawless', 'year': 2012, 'genres': ['Crime', 'Drama']}, {'id': '0000096691', 'title': 'Resident Evil: Retribution', 'year': 2012, 'genres': ['Action', 'Horror', 'Sci-Fi', 'IMAX']}, {'id': '0000097188', 'title': 'Sinister', 'year': 2012, 'genres': ['Horror', 'Thriller']}, {'id': '0000097304', 'title': 'Argo', 'year': 2012, 'genres': ['Drama', 'Thriller']}, {'id': '0000097752', 'title': 'Cloud Atlas', 'year': 2012, 'genres': ['Drama', 'Sci-Fi', 'IMAX']}, {'id': '0000099114', 'title': 'Django Unchained', 'year': 2012, 'genres': ['Action', 'Drama', 'Western']}, {'id': '0000101895', 'title': '42', 'year': 2013, 'genres': ['Drama']}, {'id': '0000102088', 'title': 'Grandmaster, The (Yi dai zong shi)', 'year': 2013, 'genres': ['Action', 'Drama', 'IMAX']}, {'id': '0000102686', 'title': 'Hangover Part III, The', 'year': 2013, 'genres': ['Comedy']}, {'id': '0000103249', 'title': 'World War Z', 'year': 2013, 'genres': ['Action', 'Drama', 'Horror', 'IMAX']}, {'id': '0000103688', 'title': 'Conjuring, The', 'year': 2013, 'genres': ['Horror', 'Thriller']}, {'id': '0000104913', 'title': 'Rush', 'year': 2013, 'genres': ['Action', 'Drama']}, {'id': '0000105355', 'title': \"Blue Is the Warmest Color (La vie d'AdÃ¨le)\", 'year': 2013, 'genres': ['Drama', 'Romance']}, {'id': '0000105504', 'title': 'Captain Phillips', 'year': 2013, 'genres': ['Adventure', 'Drama', 'Thriller', 'IMAX']}, {'id': '0000105653', 'title': 'Escape Plan', 'year': 2013, 'genres': ['Action', 'Mystery', 'Thriller']}, {'id': '0000106491', 'title': '47 Ronin', 'year': 2013, 'genres': ['Action', 'Adventure', 'Fantasy']}, {'id': '0000106841', 'title': 'August: Osage County', 'year': 2013, 'genres': ['Comedy', 'Drama']}, {'id': '0000107462', 'title': 'Ninja: Shadow of a Tear', 'year': 2013, 'genres': ['Action', 'Crime', 'Thriller']}, {'id': '0000109487', 'title': 'Interstellar', 'year': 2014, 'genres': ['Sci-Fi', 'IMAX']}, {'id': '0000109578', 'title': 'Non-Stop', 'year': 2014, 'genres': ['Action', 'Mystery', 'Thriller']}, {'id': '0000109848', 'title': 'Under the Skin', 'year': 2013, 'genres': ['Horror', 'Sci-Fi', 'Thriller']}, {'id': '0000110102', 'title': 'Captain America: The Winter Soldier', 'year': 2014, 'genres': ['Action', 'Adventure', 'Sci-Fi', 'IMAX']}, {'id': '0000110501', 'title': 'The Raid 2: Berandal', 'year': 2014, 'genres': ['Action', 'Crime', 'Thriller']}, {'id': '0000110826', 'title': 'Brick Mansions', 'year': 2014, 'genres': ['Action', 'Crime', 'Drama']}, {'id': '0000111364', 'title': 'Godzilla', 'year': 2014, 'genres': ['Action', 'Adventure', 'Sci-Fi', 'IMAX']}, {'id': '0000111743', 'title': 'A Million Ways to Die in the West', 'year': 2014, 'genres': ['Comedy', 'Western']}, {'id': '0000111759', 'title': 'Edge of Tomorrow', 'year': 2014, 'genres': ['Action', 'Sci-Fi', 'IMAX']}, {'id': '0000111781', 'title': 'Mission: Impossible - Rogue Nation', 'year': 2015, 'genres': ['Action', 'Adventure', 'Thriller']}, {'id': '0000112370', 'title': 'Transformers: Age of Extinction', 'year': 2014, 'genres': ['Action', 'Adventure', 'Sci-Fi']}, {'id': '0000112552', 'title': 'Whiplash', 'year': 2014, 'genres': ['Drama']}, {'id': '0000113573', 'title': 'Sin City: A Dame to Kill For', 'year': 2014, 'genres': ['Action', 'Crime', 'Thriller']}, {'id': '0000114180', 'title': 'Maze Runner, The', 'year': 2014, 'genres': ['Action', 'Mystery', 'Sci-Fi']}, {'id': '0000114713', 'title': 'Annabelle', 'year': 2014, 'genres': ['Horror']}, {'id': '0000114795', 'title': 'Dracula Untold', 'year': 2014, 'genres': ['Action', 'Drama', 'Fantasy']}, {'id': '0000114935', 'title': 'Predestination', 'year': 2014, 'genres': ['Action', 'Mystery', 'Sci-Fi', 'Thriller']}, {'id': '0000115149', 'title': 'John Wick', 'year': 2014, 'genres': ['Action', 'Thriller']}, {'id': '0000115210', 'title': 'Fury', 'year': 2014, 'genres': ['Action', 'Drama', 'War']}, {'id': '0000116397', 'title': 'Stonehearst Asylum', 'year': 2014, 'genres': ['Thriller']}, {'id': '0000116668', 'title': 'Dead Snow 2: Red vs. Dead', 'year': 2014, 'genres': ['Action', 'Comedy', 'Horror']}, {'id': '0000116797', 'title': 'The Imitation Game', 'year': 2014, 'genres': ['Drama', 'Thriller', 'War']}, {'id': '0000116887', 'title': 'Exodus: Gods and Kings', 'year': 2014, 'genres': ['Action', 'Adventure', 'Drama']}, {'id': '0000116977', 'title': 'Dumb and Dumber To', 'year': 2014, 'genres': ['Comedy']}, {'id': '0000117895', 'title': 'Maze Runner: Scorch Trials', 'year': 2015, 'genres': ['Action', 'Thriller']}, {'id': '0000118328', 'title': 'The Protector 2', 'year': 2013, 'genres': ['Action']}, {'id': '0000119145', 'title': 'Kingsman: The Secret Service', 'year': 2015, 'genres': ['Action', 'Adventure', 'Comedy', 'Crime']}, {'id': '0000122882', 'title': 'Mad Max: Fury Road', 'year': 2015, 'genres': ['Action', 'Adventure', 'Sci-Fi', 'Thriller']}, {'id': '0000122890', 'title': 'Warcraft', 'year': 2016, 'genres': ['Action', 'Adventure', 'Fantasy']}, {'id': '0000122892', 'title': 'Avengers: Age of Ultron', 'year': 2015, 'genres': ['Action', 'Adventure', 'Sci-Fi']}, {'id': '0000122900', 'title': 'Ant-Man', 'year': 2015, 'genres': ['Action', 'Adventure', 'Sci-Fi']}, {'id': '0000122904', 'title': 'Deadpool', 'year': 2016, 'genres': ['Action', 'Adventure', 'Comedy', 'Sci-Fi']}, {'id': '0000122912', 'title': 'Avengers: Infinity War - Part I', 'year': 2018, 'genres': ['Action', 'Adventure', 'Sci-Fi']}, {'id': '0000122914', 'title': 'Avengers: Infinity War - Part II', 'year': 2019, 'genres': ['Action', 'Adventure', 'Sci-Fi']}, {'id': '0000122920', 'title': 'Captain America: Civil War', 'year': 2016, 'genres': ['Action', 'Sci-Fi', 'Thriller']}, {'id': '0000128360', 'title': 'The Hateful Eight', 'year': 2015, 'genres': ['Western']}, {'id': '0000129937', 'title': 'Run All Night', 'year': 2015, 'genres': ['Action', 'Crime', 'Drama', 'Thriller']}, {'id': '0000130634', 'title': 'Furious 7', 'year': 2015, 'genres': ['Action', 'Crime', 'Thriller']}, {'id': '0000130956', 'title': 'Child 44', 'year': 2015, 'genres': ['Crime', 'Thriller']}, {'id': '0000131714', 'title': 'Last Knights', 'year': 2015, 'genres': ['Action', 'Adventure']}, {'id': '0000133195', 'title': 'Hitman: Agent 47', 'year': 2015, 'genres': ['Action', 'Crime', 'Thriller']}, {'id': '0000134130', 'title': 'The Martian', 'year': 2015, 'genres': ['Adventure', 'Drama', 'Sci-Fi']}, {'id': '0000135530', 'title': 'Criminal', 'year': 2016, 'genres': ['Action', 'Crime', 'Drama', 'Sci-Fi']}, {'id': '0000138036', 'title': 'The Man from U.N.C.L.E.', 'year': 2015, 'genres': ['Action', 'Adventure', 'Comedy']}, {'id': '0000139385', 'title': 'The Revenant', 'year': 2015, 'genres': ['Adventure', 'Drama']}, {'id': '0000139642', 'title': 'Southpaw', 'year': 2015, 'genres': ['Action', 'Drama']}, {'id': '0000139644', 'title': 'Sicario', 'year': 2015, 'genres': ['Crime', 'Drama', 'Mystery']}, {'id': '0000142032', 'title': 'The Transporter Refuelled', 'year': 2015, 'genres': ['Action', 'Crime', 'Thriller']}, {'id': '0000142488', 'title': 'Spotlight', 'year': 2015, 'genres': ['Thriller']}, {'id': '0000146656', 'title': 'Creed', 'year': 2015, 'genres': ['Drama']}, {'id': '0000152061', 'title': 'Triple 9', 'year': 2016, 'genres': ['Crime', 'Drama']}, {'id': '0000152091', 'title': 'The Brothers Grimsby', 'year': 2016, 'genres': ['Comedy']}, {'id': '0000157699', 'title': 'Snowden', 'year': 2016, 'genres': ['Drama', 'Thriller']}, {'id': '0000158966', 'title': 'Captain Fantastic', 'year': 2016, 'genres': ['Drama']}, {'id': '0000159061', 'title': 'The Wailing', 'year': 2016, 'genres': ['Mystery', 'Thriller']}, {'id': '0000160438', 'title': 'Jason Bourne', 'year': 2016, 'genres': ['Action']}, {'id': '0000160980', 'title': 'Sully', 'year': 2016, 'genres': ['Drama']}, {'id': '0000162082', 'title': 'Train to Busan', 'year': 2016, 'genres': ['Action', 'Thriller']}, {'id': '0000162350', 'title': 'The Magnificent Seven', 'year': 2016, 'genres': ['Action', 'Western']}, {'id': '0000162598', 'title': 'Deepwater Horizon', 'year': 2016, 'genres': ['Drama']}, {'id': '0000162606', 'title': 'The Accountant', 'year': 2016, 'genres': ['Crime', 'Drama', 'Thriller']}, {'id': '0000163645', 'title': 'Hacksaw Ridge', 'year': 2016, 'genres': ['Drama', 'War']}, {'id': '0000164981', 'title': 'Allied', 'year': 2016, 'genres': ['Action', 'Drama', 'Romance', 'Thriller', 'War']}, {'id': '0000168248', 'title': 'John Wick: Chapter Two', 'year': 2017, 'genres': ['Action', 'Crime', 'Thriller']}, {'id': '0000168366', 'title': 'Beauty and the Beast', 'year': 2017, 'genres': ['Fantasy', 'Romance']}, {'id': '0000169864', 'title': 'Life', 'year': 2017, 'genres': ['Horror', 'Sci-Fi', 'Thriller']}, {'id': '0000169984', 'title': 'Alien: Covenant', 'year': 2017, 'genres': ['Action', 'Horror', 'Sci-Fi', 'Thriller']}, {'id': '0000170827', 'title': 'The Mummy', 'year': 2017, 'genres': ['Action', 'Adventure', 'Fantasy', 'Horror', 'Thriller']}, {'id': '0000170891', 'title': 'The Legend Is Born: Ip Man', 'year': 2010, 'genres': ['Action', 'Drama']}, {'id': '0000171763', 'title': 'Baby Driver', 'year': 2017, 'genres': ['Action', 'Crime', 'Thriller']}, {'id': '0000173145', 'title': 'War for the Planet of the Apes', 'year': 2017, 'genres': ['Action', 'Adventure', 'Drama', 'Sci-Fi']}, {'id': '0000173161', 'title': 'Kidnap', 'year': 2017, 'genres': ['Drama', 'Thriller']}, {'id': '0000174585', 'title': 'Transformers: The Last Knight', 'year': 2017, 'genres': ['Action', 'Adventure', 'Sci-Fi', 'Thriller']}, {'id': '0000175199', 'title': 'Annabelle: Creation', 'year': 2017, 'genres': ['Horror']}, {'id': '0000175303', 'title': 'It', 'year': 2017, 'genres': ['Horror']}, {'id': '0000175585', 'title': 'Shot Caller', 'year': 2017, 'genres': ['Action', 'Crime', 'Drama', 'Thriller']}, {'id': '0000176937', 'title': 'Jigsaw', 'year': 2017, 'genres': ['Horror', 'Thriller']}, {'id': '0000177497', 'title': 'Hostiles', 'year': 2017, 'genres': ['Adventure', 'Drama', 'Western']}, {'id': '0000177593', 'title': 'Three Billboards Outside Ebbing, Missouri', 'year': 2017, 'genres': ['Crime', 'Drama']}, {'id': '0000183011', 'title': 'The Commuter', 'year': 2018, 'genres': ['Crime', 'Drama', 'Mystery', 'Thriller']}, {'id': '0000184069', 'title': 'Accident Man', 'year': 2018, 'genres': ['Action', 'Crime', 'Thriller']}, {'id': '0000185029', 'title': 'A Quiet Place', 'year': 2018, 'genres': ['Drama', 'Horror', 'Thriller']}, {'id': '0000186631', 'title': 'Everybody Knows', 'year': 2018, 'genres': ['Drama']}, {'id': '0000188301', 'title': 'Ant-Man and the Wasp', 'year': 2018, 'genres': ['Action', 'Adventure', 'Comedy', 'Fantasy', 'Sci-Fi']}, {'id': '0000189333', 'title': 'Mission: Impossible - Fallout', 'year': 2018, 'genres': ['Action', 'Adventure', 'Thriller']}, {'id': '0000191483', 'title': 'The Nun', 'year': 2018, 'genres': ['Horror', 'Mystery', 'Thriller']}, {'id': '0000192381', 'title': 'Apostle', 'year': 2018, 'genres': ['Horror', 'Thriller']}, {'id': '0000192385', 'title': 'A Star Is Born', 'year': 2018, 'genres': ['Drama', 'Romance']}, {'id': '0000192541', 'title': 'The Graduates', 'year': 1986, 'genres': ['Comedy', 'Romance']}, {'id': '0000193958', 'title': 'Creed II', 'year': 2018, 'genres': ['Drama']}, {'id': '0000194396', 'title': 'Overlord', 'year': 2018, 'genres': ['Action', 'Horror', 'Sci-Fi', 'Thriller', 'War']}, {'id': '0000195163', 'title': 'Bumblebee', 'year': 2018, 'genres': ['Action', 'Adventure', 'Sci-Fi']}, {'id': '0000197203', 'title': 'Triple Frontier', 'year': 2019, 'genres': ['Crime', 'Thriller']}, {'id': '0000200300', 'title': 'Triple Threat', 'year': 2019, 'genres': ['Action', 'Thriller']}, {'id': '0000200540', 'title': 'Aladdin', 'year': 2019, 'genres': ['Adventure', 'Fantasy', 'Romance']}, {'id': '0000200818', 'title': 'John Wick: Chapter 3 â€“ Parabellum', 'year': 2019, 'genres': ['Action', 'Crime', 'Thriller']}, {'id': '0000201340', 'title': 'The Lighthouse', 'year': 2019, 'genres': ['Drama', 'Fantasy', 'Horror']}, {'id': '0000203519', 'title': 'Fast & Furious Presents: Hobbs & Shaw', 'year': 2019, 'genres': ['Action']}, {'id': '0000204698', 'title': 'Joker', 'year': 2019, 'genres': ['Crime', 'Drama', 'Thriller']}, {'id': '0000206857', 'title': 'The Irishman', 'year': 2019, 'genres': ['Crime', 'Drama']}, {'id': '0000207830', 'title': 'Terminator: Dark Fate', 'year': 2019, 'genres': ['Action', 'Sci-Fi']}]\n"
          ]
        }
      ]
    },
    {
      "cell_type": "markdown",
      "source": [
        "**Test II. Counting the Movies**\n",
        "\n",
        "- ⚙️ Function: `countNumberOfMovies`"
      ],
      "metadata": {
        "id": "t3lryEJeotXX"
      }
    },
    {
      "cell_type": "code",
      "source": [
        "from movifex.datasets.movifex.helper_metadata import countNumberOfMovies\n",
        "\n",
        "print(f\"- Counting the number of movies in the dataset ...\")\n",
        "moviesCount = countNumberOfMovies(jsonData)\n",
        "print(f\"- The dataset contains '{moviesCount}' movies!\")"
      ],
      "metadata": {
        "colab": {
          "base_uri": "https://localhost:8080/"
        },
        "id": "EP6A9zWGsGjn",
        "outputId": "ab24e929-d10e-4e83-9043-b5cdd9dee2d1"
      },
      "execution_count": null,
      "outputs": [
        {
          "output_type": "stream",
          "name": "stdout",
          "text": [
            "- Counting the number of movies in the dataset ...\n",
            "- The dataset contains '274' movies!\n"
          ]
        }
      ]
    },
    {
      "cell_type": "markdown",
      "source": [
        "**Test III. Fetching a Random Movie**\n",
        "\n",
        "- ⚙️ Function: `fetchRandomMovie`"
      ],
      "metadata": {
        "id": "8-a788MesQen"
      }
    },
    {
      "cell_type": "code",
      "source": [
        "from movifex.datasets.movifex.helper_metadata import fetchRandomMovie\n",
        "\n",
        "print(f\"- Fetching a random movie from the dataset ...\")\n",
        "randomMovie = fetchRandomMovie(jsonData)\n",
        "print(json.dumps(randomMovie, indent=4))"
      ],
      "metadata": {
        "colab": {
          "base_uri": "https://localhost:8080/"
        },
        "id": "fRd42nfqsRxW",
        "outputId": "3b121e5f-542f-4c91-ca8f-eae1aa104e82"
      },
      "execution_count": null,
      "outputs": [
        {
          "output_type": "stream",
          "name": "stdout",
          "text": [
            "- Fetching a random movie from the dataset ...\n",
            "{\n",
            "    \"id\": \"0000000589\",\n",
            "    \"title\": \"Terminator 2: Judgment Day\",\n",
            "    \"year\": 1991,\n",
            "    \"genres\": [\n",
            "        \"Action\",\n",
            "        \"Sci-Fi\"\n",
            "    ]\n",
            "}\n"
          ]
        }
      ]
    },
    {
      "cell_type": "markdown",
      "source": [
        "**Test IV. Fetching a Movie by ID**\n",
        "\n",
        "- ⚙️ Function: `fetchMovieById`"
      ],
      "metadata": {
        "id": "fBTfChE8tZo3"
      }
    },
    {
      "cell_type": "code",
      "source": [
        "from movifex.datasets.movifex.helper_metadata import fetchMovieById\n",
        "\n",
        "# Variables\n",
        "givenMovieId = 6\n",
        "\n",
        "print(f\"- Fetching a given movie by ID (given: {givenMovieId}) ...\")\n",
        "movieById = fetchMovieById(jsonData, givenMovieId)\n",
        "print(f\"- The fetched movie:\")\n",
        "print(json.dumps(movieById, indent=4))"
      ],
      "metadata": {
        "colab": {
          "base_uri": "https://localhost:8080/"
        },
        "id": "xs0akO5etnPy",
        "outputId": "fa25c544-3096-484d-eae6-a3c3c1750cac"
      },
      "execution_count": null,
      "outputs": [
        {
          "output_type": "stream",
          "name": "stdout",
          "text": [
            "- Fetching a given movie by ID (given: 6) ...\n",
            "- The fetched movie:\n",
            "{\n",
            "    \"id\": \"0000000006\",\n",
            "    \"title\": \"Heat\",\n",
            "    \"year\": 1995,\n",
            "    \"genres\": [\n",
            "        \"Action\",\n",
            "        \"Crime\",\n",
            "        \"Thriller\"\n",
            "    ]\n",
            "}\n"
          ]
        }
      ]
    },
    {
      "cell_type": "markdown",
      "source": [
        "**Test V. Fetching All Movies by Genre**\n",
        "\n",
        "- ⚙️ Function: `fetchMoviesByGenre`"
      ],
      "metadata": {
        "id": "nm7WuIxduGFb"
      }
    },
    {
      "cell_type": "code",
      "source": [
        "from movifex.datasets.movifex.helper_metadata import fetchMoviesByGenre\n",
        "\n",
        "# Variables\n",
        "givenGenre = \"Romance\"\n",
        "\n",
        "print(f\"- Fetching all movie with the given genre (input: {givenGenre}) ...\")\n",
        "moviesByGenre = fetchMoviesByGenre(jsonData, givenGenre)\n",
        "print(f\"- Returned variable (list): {moviesByGenre}\")"
      ],
      "metadata": {
        "colab": {
          "base_uri": "https://localhost:8080/"
        },
        "id": "bOcwO5jcuRx7",
        "outputId": "a088f641-1fbb-42e4-d2e4-7521e6b3a9d7"
      },
      "execution_count": null,
      "outputs": [
        {
          "output_type": "stream",
          "name": "stdout",
          "text": [
            "- Fetching all movie with the given genre (input: Romance) ...\n",
            "- Returned variable (list): {'0000000266': {'id': '0000000266', 'title': 'Legends of the Fall', 'year': 1994, 'genres': ['Drama', 'Romance', 'War', 'Western']}, '0000000356': {'id': '0000000356', 'title': 'Forrest Gump', 'year': 1994, 'genres': ['Comedy', 'Drama', 'Romance', 'War']}, '0000000912': {'id': '0000000912', 'title': 'Casablanca', 'year': 1942, 'genres': ['Drama', 'Romance']}, '0000001339': {'id': '0000001339', 'title': \"Dracula (Bram Stoker's Dracula)\", 'year': 1992, 'genres': ['Fantasy', 'Horror', 'Romance', 'Thriller']}, '0000001704': {'id': '0000001704', 'title': 'Good Will Hunting', 'year': 1997, 'genres': ['Drama', 'Romance']}, '0000001721': {'id': '0000001721', 'title': 'Titanic', 'year': 1997, 'genres': ['Drama', 'Romance']}, '0000004995': {'id': '0000004995', 'title': 'Beautiful Mind, A', 'year': 2001, 'genres': ['Drama', 'Romance']}, '0000008529': {'id': '0000008529', 'title': 'Terminal, The', 'year': 2004, 'genres': ['Comedy', 'Drama', 'Romance']}, '0000008638': {'id': '0000008638', 'title': 'Before Sunset', 'year': 2004, 'genres': ['Drama', 'Romance']}, '0000064957': {'id': '0000064957', 'title': 'Curious Case of Benjamin Button, The', 'year': 2008, 'genres': ['Drama', 'Fantasy', 'Mystery', 'Romance']}, '0000078772': {'id': '0000078772', 'title': 'Twilight Saga: Eclipse, The', 'year': 2010, 'genres': ['Fantasy', 'Romance', 'Thriller', 'IMAX']}, '0000089904': {'id': '0000089904', 'title': 'The Artist', 'year': 2011, 'genres': ['Comedy', 'Drama', 'Romance']}, '0000105355': {'id': '0000105355', 'title': \"Blue Is the Warmest Color (La vie d'AdÃ¨le)\", 'year': 2013, 'genres': ['Drama', 'Romance']}, '0000164981': {'id': '0000164981', 'title': 'Allied', 'year': 2016, 'genres': ['Action', 'Drama', 'Romance', 'Thriller', 'War']}, '0000168366': {'id': '0000168366', 'title': 'Beauty and the Beast', 'year': 2017, 'genres': ['Fantasy', 'Romance']}, '0000192385': {'id': '0000192385', 'title': 'A Star Is Born', 'year': 2018, 'genres': ['Drama', 'Romance']}, '0000192541': {'id': '0000192541', 'title': 'The Graduates', 'year': 1986, 'genres': ['Comedy', 'Romance']}, '0000200540': {'id': '0000200540', 'title': 'Aladdin', 'year': 2019, 'genres': ['Adventure', 'Fantasy', 'Romance']}}\n"
          ]
        }
      ]
    },
    {
      "cell_type": "markdown",
      "source": [
        "**Test VI. Classifying Movies by Release Date**\n",
        "\n",
        "- ⚙️ Function: `classifyYearsByCount`"
      ],
      "metadata": {
        "id": "JXLGUDKJulfy"
      }
    },
    {
      "cell_type": "code",
      "source": [
        "from movifex.datasets.movifex.helper_metadata import classifyYearsByCount\n",
        "\n",
        "print(f\"- Classifying release dates by count ...\")\n",
        "yearsCount = classifyYearsByCount(jsonData)\n",
        "print(f\"- Returned variable (dict): {yearsCount}\")"
      ],
      "metadata": {
        "colab": {
          "base_uri": "https://localhost:8080/"
        },
        "id": "2I30Sh-RuyJz",
        "outputId": "d5b70def-2a69-4bfe-faf5-8f7cf1d35d48"
      },
      "execution_count": null,
      "outputs": [
        {
          "output_type": "stream",
          "name": "stdout",
          "text": [
            "- Classifying release dates by count ...\n",
            "- Returned variable (dict): {1995: 4, 1976: 2, 1994: 7, 1993: 3, 1990: 4, 1991: 1, 1996: 2, 1972: 1, 1954: 1, 1942: 1, 1988: 2, 1992: 4, 1975: 2, 1986: 2, 1966: 1, 1957: 1, 1971: 1, 1979: 2, 1974: 2, 1984: 2, 1997: 7, 1973: 3, 1989: 1, 1998: 3, 1982: 1, 1985: 1, 1999: 4, 2000: 5, 1987: 1, 2001: 4, 1983: 2, 2002: 9, 2003: 10, 1978: 1, 2004: 7, 2005: 3, 2006: 4, 2007: 5, 2008: 9, 2009: 5, 2010: 10, 2011: 9, 2012: 14, 2013: 14, 2014: 22, 2015: 20, 2016: 17, 2018: 13, 2019: 10, 2017: 15}\n"
          ]
        }
      ]
    },
    {
      "cell_type": "markdown",
      "source": [
        "**Test VII. Classifying Movies by Genre**\n",
        "\n",
        "- ⚙️ Function: `classifyMoviesByGenre`"
      ],
      "metadata": {
        "id": "tnZ8jMWpu-7i"
      }
    },
    {
      "cell_type": "code",
      "source": [
        "from movifex.datasets.movifex.helper_metadata import classifyMoviesByGenre\n",
        "\n",
        "print(f\"- Classifying movies by genre ...\")\n",
        "moviesByGenre = classifyMoviesByGenre(jsonData)\n",
        "print(f\"- Returned variable (dict): {moviesByGenre}\")"
      ],
      "metadata": {
        "colab": {
          "base_uri": "https://localhost:8080/"
        },
        "id": "GJIoDrAbvCeH",
        "outputId": "1145dd5f-1111-44eb-f6cc-4c7e9c5ce998"
      },
      "execution_count": null,
      "outputs": [
        {
          "output_type": "stream",
          "name": "stdout",
          "text": [
            "- Classifying movies by genre ...\n",
            "- Returned variable (dict): {'Action': 142, 'Crime': 80, 'Thriller': 119, 'Mystery': 26, 'Drama': 129, 'Adventure': 56, 'IMAX': 24, 'Comedy': 29, 'Romance': 18, 'War': 18, 'Western': 10, 'Sci-Fi': 57, 'Children': 1, 'Horror': 39, 'Film-Noir': 1, 'Fantasy': 21, 'Musical': 1}\n"
          ]
        }
      ]
    },
    {
      "cell_type": "markdown",
      "source": [
        "**Test VIII. Calculating Average Genre**\n",
        "\n",
        "- ⚙️ Function: `calculateAverageGenrePerMovie`"
      ],
      "metadata": {
        "id": "TSxF31wrvSN_"
      }
    },
    {
      "cell_type": "code",
      "source": [
        "from movifex.datasets.movifex.helper_metadata import calculateAverageGenrePerMovie\n",
        "\n",
        "print(f\"- Calculating the average genre per movie ...\")\n",
        "averageGenrePerMovie = calculateAverageGenrePerMovie(moviesByGenre, moviesCount)\n",
        "print(f\"- Returned variable (float): {averageGenrePerMovie}\")"
      ],
      "metadata": {
        "colab": {
          "base_uri": "https://localhost:8080/"
        },
        "id": "pfUr_jzEvYcz",
        "outputId": "1ace0377-9374-43fa-e4a4-92b4ae76bde4"
      },
      "execution_count": null,
      "outputs": [
        {
          "output_type": "stream",
          "name": "stdout",
          "text": [
            "- Calculating the average genre per movie ...\n",
            "- Returned variable (float): 2.814\n"
          ]
        }
      ]
    },
    {
      "cell_type": "markdown",
      "source": [
        "**Test IX. Visualizing Genres**\n",
        "\n",
        "- ⚙️ Function: `visualizeGenresDictionary`"
      ],
      "metadata": {
        "id": "jO4rik_4vkTf"
      }
    },
    {
      "cell_type": "code",
      "source": [
        "from movifex.datasets.movifex.visualizer_metadata import visualizeGenresDictionary\n",
        "\n",
        "print(f\"- Visualizing the classification results in a bar chart ...\")\n",
        "visualizeGenresDictionary(moviesByGenre)"
      ],
      "metadata": {
        "colab": {
          "base_uri": "https://localhost:8080/",
          "height": 536
        },
        "id": "2PcZBZOHvtW3",
        "outputId": "ec8071b3-9fa4-4c98-c852-8ba97f42099f"
      },
      "execution_count": null,
      "outputs": [
        {
          "output_type": "stream",
          "name": "stdout",
          "text": [
            "- Visualizing the classification results in a bar chart ...\n"
          ]
        },
        {
          "output_type": "display_data",
          "data": {
            "text/plain": [
              "<Figure size 640x480 with 1 Axes>"
            ],
            "image/png": "[encoded data removed]"
          },
          "metadata": {}
        }
      ]
    }
  ]
}